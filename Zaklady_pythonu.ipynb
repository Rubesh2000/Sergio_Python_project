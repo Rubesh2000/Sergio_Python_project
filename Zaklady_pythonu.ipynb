{
 "cells": [
  {
   "cell_type": "markdown",
   "metadata": {
    "id": "GSBB77X95WT_"
   },
   "source": [
    "#### **Proměnná**\n",
    "\n",
    "- Proměnná slouží pro uchování hodnoty, kterou jí přiřadíme.\n",
    "- Můžeme si jí představit jako `nádobu`, do které něco uložíme a pak pracujeme s celou tou nádobou (například necháme ve výrobě její podobu 10x vytisknout)\n",
    "\n",
    "**Proměnná se skládá ze 3 částí:**\n",
    "1. *Název proměnné*\n",
    "2. *Přiřazovací operátor (=)*\n",
    "3. *Hodnota proměnné*\n",
    "\n",
    "- Do proměnné můžeme přiřadit cokoliv. Nejjednoduším příkladem je přiřazení textového stringu anebo integeru.\n",
    "- Do proměnné však můžeme přiřazovat později i složitější operace - např. matematické\n",
    "\n",
    "**Proměnné usnadňují:**\n",
    "1. **Přehlednost** - *Například `vyska = 170` je jasnější než použití čísla `170` přímo v kódu, kde bys musel hádat, co to číslo znamená*\n",
    "\n",
    "2. **Opakované použití** - *Když máš uloženou hodnotu v proměnné, můžeš ji použít na mnoha místech ve svém programu, aniž bys musel hodnotu znovu zadávat nebo vypočítávat.*\n",
    "\n",
    "3. **Flexibilitu** - *Můžeš snadno aktualizovat hodnotu uloženou v proměnné, což je užitečné například v situacích, kdy se tvoje data mění v průběhu času nebo na základě uživatelského vstupu.*\n",
    "\n",
    "4. **Manipulaci s daty** - *Proměnné ti umožňují provádět operace s daty, jako jsou matematické výpočty, textové manipulace a mnoho dalšího, a výsledky těchto operací můžeš opět ukládat do proměnných.*"
   ]
  },
  {
   "cell_type": "code",
   "execution_count": null,
   "metadata": {
    "id": "F15orsMn6grp"
   },
   "outputs": [],
   "source": [
    "# Vytvoření proměnné s hodnotou 5 a její vypsání\n",
    "jednoducha_promenna = 5\n",
    "jednoducha_promenna"
   ]
  },
  {
   "cell_type": "code",
   "execution_count": null,
   "metadata": {},
   "outputs": [],
   "source": [
    "# Přetypování proměnné na datový typ float \n",
    "jednoducha_promenna = float(jednoducha_promenna)"
   ]
  },
  {
   "cell_type": "code",
   "execution_count": null,
   "metadata": {},
   "outputs": [],
   "source": [
    "# Vypíše nám datový typ proměnné \n",
    "type(jednoducha_promenna)"
   ]
  },
  {
   "cell_type": "code",
   "execution_count": null,
   "metadata": {},
   "outputs": [],
   "source": [
    "# vypíšeme proměnnou\n",
    "print(jednoducha_promenna)"
   ]
  },
  {
   "cell_type": "code",
   "execution_count": null,
   "metadata": {},
   "outputs": [],
   "source": [
    "# Zadávání vstupu a uložení do proměnné\n",
    "uzivatelsky_vstup = input('Zadej číslo: ')"
   ]
  },
  {
   "cell_type": "code",
   "execution_count": null,
   "metadata": {},
   "outputs": [],
   "source": [
    "# Vypsání proměnné s naším vstupem\n",
    "print(uzivatelsky_vstup)"
   ]
  },
  {
   "cell_type": "code",
   "execution_count": null,
   "metadata": {},
   "outputs": [],
   "source": [
    "# Vypsání datového typu proměnné\n",
    "type(uzivatelsky_vstup)"
   ]
  },
  {
   "cell_type": "code",
   "execution_count": null,
   "metadata": {},
   "outputs": [],
   "source": [
    "# Přetypování na int (celočíselná hodnota)\n",
    "uzivatelsky_vstup = int(uzivatelsky_vstup)"
   ]
  },
  {
   "cell_type": "code",
   "execution_count": null,
   "metadata": {},
   "outputs": [],
   "source": [
    "# Vypsání datového typu\n",
    "type(uzivatelsky_vstup)"
   ]
  },
  {
   "cell_type": "markdown",
   "metadata": {
    "id": "csPW5L6lrQ8J"
   },
   "source": [
    "## Datové typy\n",
    "---\n",
    "**Programovací stavební kameny**:\n",
    "\n",
    "1.   Datové typy\n",
    "2.   Syntaxe (funkce, podmínky, smyčky...)\n",
    "3.   Knihovny (math, pandas, numpy)\n",
    "\n",
    "#### **Základní datové typy**\n",
    "\n",
    "1. `int` - celočíselná hodnota\n",
    "2. `float` - číselná hodnota s plovoucí desetinnou čárkou\n",
    "3. `string` - řetězec, sekvence znaků\n",
    "4. `bool` - logická hodnota, nabývá 2 hodnot - `True`, `False`\n",
    "\n",
    "\n",
    "\n"
   ]
  },
  {
   "cell_type": "code",
   "execution_count": null,
   "metadata": {},
   "outputs": [],
   "source": [
    "# Logika pomocí if statementů\n",
    "krabicka = False\n",
    "\n",
    "if krabicka is True: # True\n",
    "    print('Krabička je true')\n",
    "else: # False\n",
    "    print('Krabička není True')\n",
    "    "
   ]
  },
  {
   "cell_type": "code",
   "execution_count": null,
   "metadata": {},
   "outputs": [],
   "source": [
    "print(krabicka)"
   ]
  },
  {
   "cell_type": "markdown",
   "metadata": {},
   "source": [
    "### BOOL - logická hodnota"
   ]
  },
  {
   "cell_type": "code",
   "execution_count": null,
   "metadata": {},
   "outputs": [],
   "source": [
    "validace = True"
   ]
  },
  {
   "cell_type": "code",
   "execution_count": null,
   "metadata": {},
   "outputs": [],
   "source": [
    "type(validace)"
   ]
  },
  {
   "cell_type": "code",
   "execution_count": null,
   "metadata": {},
   "outputs": [],
   "source": [
    "a = 5\n",
    "\n",
    "if a == 5:\n",
    "    print('Hodnota proměnné a je opravdu 5')\n",
    "else:\n",
    "    print('Hodnota proměnné není 5')"
   ]
  },
  {
   "cell_type": "code",
   "execution_count": null,
   "metadata": {},
   "outputs": [],
   "source": [
    "# IF logika přímo v print funkci (vypíše True nebo False)\n",
    "b = 20\n",
    "c = 11\n",
    "print(a==5)"
   ]
  },
  {
   "cell_type": "code",
   "execution_count": null,
   "metadata": {
    "id": "iQErpvias87s"
   },
   "outputs": [],
   "source": [
    "# IF logika například při plánování objednávek .. \n",
    "planovani_objednavek = False\n",
    "\n",
    "if planovani_objednavek is True:\n",
    "    # prověď další operace\n",
    "    print(\"Posílám objednávky do plánovače...\")\n",
    "\n",
    "else:\n",
    "    print(\"Plánování není povoleno, nedělám nic.\")"
   ]
  },
  {
   "cell_type": "code",
   "execution_count": null,
   "metadata": {
    "id": "OSkuTlRVtBdX"
   },
   "outputs": [],
   "source": [
    "# Vytvoření proměnné datového typu float\n",
    "desetinne = 10.5\n",
    "type(desetinne)"
   ]
  },
  {
   "cell_type": "code",
   "execution_count": null,
   "metadata": {
    "id": "R3iVhhoEtBDI"
   },
   "outputs": [],
   "source": [
    "# Vytvoření proměnné datového typu string\n",
    "retezec = 'a1156362@@@'\n",
    "type(retezec)"
   ]
  },
  {
   "cell_type": "code",
   "execution_count": null,
   "metadata": {
    "id": "vO_WYXRNtDHW"
   },
   "outputs": [],
   "source": [
    "# Vytvoření proměnné datového typu boolean\n",
    "logicka = True\n",
    "type(logicka)"
   ]
  },
  {
   "cell_type": "markdown",
   "metadata": {
    "id": "bWi67AqrtM3d"
   },
   "source": [
    "#### **Složitější datové typy**\n",
    "\n",
    "1. `list` - seznam, kolekce hodnot, které můžou být různých typů (mutable)\n",
    "2. `tuple` - neměnná (immutable) sekvence hodnot\n",
    "3. `dictionary` - kolekce dvojic klíč-hodnota\n",
    "4. `set` - neseřazená kolekce jedinečných hodnot (neobsahuje duplicity)\n"
   ]
  },
  {
   "cell_type": "markdown",
   "metadata": {
    "id": "yW1S37Sa79N1"
   },
   "source": [
    "---\n",
    "\n",
    "#### **List**\n",
    "\n",
    "`List` to datový typ, který dokáže uchovávat hodnoty různých datových typů.\n",
    "Jednotlivé hodnoty jsou odděleny čárkou.\n",
    "\n",
    "Prázdný `List` lze vytvořit dvěma způsoby:\n",
    "1. Definováním prázdných hranatých závorek `muj_list = []`\n",
    "2. Pomocí zabudované funkce `muj_list = list()`\n",
    "\n",
    "Neprázdný list se tvoří definováním hodnot do hranatých závorek\n",
    "`muj_list = [1, 2, 3, 4]`\n",
    "\n",
    "List může obsahovat i další složitější datové typy, jako jsou slovníky, tuply i vnořené listy\n",
    "\n",
    "Jelikož je `List` mutable datový typ, čili lze v průběhu jeho životnosti měnit, má k tomu také přístupné velké množství metod, které umožňují jednoduché přidávání a odebírání prvků z listu"
   ]
  },
  {
   "cell_type": "markdown",
   "metadata": {},
   "source": [
    "##### 1. možnost"
   ]
  },
  {
   "cell_type": "code",
   "execution_count": null,
   "metadata": {},
   "outputs": [],
   "source": [
    "# Vytvoření listu\n",
    "muj_list = []\n",
    "type(muj_list)"
   ]
  },
  {
   "cell_type": "markdown",
   "metadata": {},
   "source": [
    "##### 2. možnost"
   ]
  },
  {
   "cell_type": "code",
   "execution_count": null,
   "metadata": {},
   "outputs": [],
   "source": [
    "# Vytvoření listu\n",
    "muj_list_2 = list()\n",
    "type(muj_list)"
   ]
  },
  {
   "cell_type": "code",
   "execution_count": null,
   "metadata": {},
   "outputs": [],
   "source": [
    "# Vytvoření listu s konkrétními hodnotami\n",
    "vnoreny_list = ['Dominik', 10, 10.5, ['Vnorene jmeno']]"
   ]
  },
  {
   "cell_type": "code",
   "execution_count": null,
   "metadata": {},
   "outputs": [],
   "source": [
    "# Vypsání obsahu proměnné\n",
    "pritn(vnoreny_list)"
   ]
  },
  {
   "cell_type": "code",
   "execution_count": null,
   "metadata": {},
   "outputs": [],
   "source": [
    "# Vytvoření listu\n",
    "a = [999, \"Text\", 10.0]"
   ]
  },
  {
   "cell_type": "code",
   "execution_count": null,
   "metadata": {},
   "outputs": [],
   "source": [
    "print(a)"
   ]
  },
  {
   "cell_type": "code",
   "execution_count": null,
   "metadata": {},
   "outputs": [],
   "source": [
    "# Přidání hodnoty na konec listu přes metodu .append()\n",
    "a.append(666)"
   ]
  },
  {
   "cell_type": "code",
   "execution_count": null,
   "metadata": {},
   "outputs": [],
   "source": [
    "print(a)"
   ]
  },
  {
   "cell_type": "code",
   "execution_count": null,
   "metadata": {},
   "outputs": [],
   "source": [
    "# Vytvoření listu\n",
    "promenna = [10, 'Text', 10.0, '1', [1, 2]]"
   ]
  },
  {
   "cell_type": "code",
   "execution_count": null,
   "metadata": {},
   "outputs": [],
   "source": [
    "# Pomocí indexace se můžu dostat na konkrétní hodnotu v listu a uložit jí do samostatné proměnné        \n",
    "promenna_druhy_index = promenna[4]"
   ]
  },
  {
   "cell_type": "code",
   "execution_count": null,
   "metadata": {},
   "outputs": [],
   "source": [
    "print(promenna_druhy_index)"
   ]
  },
  {
   "cell_type": "code",
   "execution_count": null,
   "metadata": {},
   "outputs": [],
   "source": [
    "# V případě vnořených struktur, např. list v listu můžu používat vnořené indexování\n",
    "promenna[4][1]"
   ]
  },
  {
   "cell_type": "code",
   "execution_count": null,
   "metadata": {},
   "outputs": [],
   "source": [
    "# Vytvoření listu\n",
    "list_2 = [1, 'text', 2]\n",
    "print(list_2)"
   ]
  },
  {
   "cell_type": "code",
   "execution_count": null,
   "metadata": {},
   "outputs": [],
   "source": [
    "# Pomocí metody .insert() umísťuji konkrétní hodnotu na konkrétní index v listu\n",
    "list_2.insert(0, 'nova hodnota na indexu 0')"
   ]
  },
  {
   "cell_type": "code",
   "execution_count": null,
   "metadata": {},
   "outputs": [],
   "source": [
    "# Vypisuji celý list\n",
    "print(list_2)\n",
    "\n",
    "# Vypisuji pouze prvek na nultém indexu (1. prvek)\n",
    "print(list_2[0])"
   ]
  },
  {
   "cell_type": "code",
   "execution_count": null,
   "metadata": {},
   "outputs": [],
   "source": [
    "# Můžu také smazat prvek na konkrétním indexu\n",
    "list_2.remove(1)"
   ]
  },
  {
   "cell_type": "code",
   "execution_count": null,
   "metadata": {},
   "outputs": [],
   "source": [
    "print(list_2)"
   ]
  },
  {
   "cell_type": "code",
   "execution_count": null,
   "metadata": {},
   "outputs": [],
   "source": [
    "# Vytvoření listu\n",
    "list_2 = [1, 2, 3]"
   ]
  },
  {
   "cell_type": "code",
   "execution_count": null,
   "metadata": {},
   "outputs": [],
   "source": [
    "list_2"
   ]
  },
  {
   "cell_type": "code",
   "execution_count": null,
   "metadata": {},
   "outputs": [],
   "source": [
    "# Přidání hodnoty na konec listu přes metodu .append() - 3x\n",
    "list_2.append('novy')\n",
    "list_2.append('novy')\n",
    "list_2.append('novy')"
   ]
  },
  {
   "cell_type": "code",
   "execution_count": null,
   "metadata": {},
   "outputs": [],
   "source": [
    "print(list_2)"
   ]
  },
  {
   "cell_type": "code",
   "execution_count": null,
   "metadata": {},
   "outputs": [],
   "source": [
    "# Smazání hodnoty 'novy' z listu (provede se pouze jednou)\n",
    "list_2.remove('novy')\n",
    "list_2.remove('novy')\n",
    "list_2.remove('novy')"
   ]
  },
  {
   "cell_type": "code",
   "execution_count": null,
   "metadata": {},
   "outputs": [],
   "source": [
    "print(list_2)"
   ]
  },
  {
   "cell_type": "code",
   "execution_count": null,
   "metadata": {},
   "outputs": [],
   "source": [
    "# For cyklus - vypíše každý prvek v listu\n",
    "for i in list_2:\n",
    "    print(i)"
   ]
  },
  {
   "cell_type": "code",
   "execution_count": null,
   "metadata": {},
   "outputs": [],
   "source": [
    "list_2.append('novy')\n",
    "list_2.append('novy')\n",
    "list_2.append(5)"
   ]
  },
  {
   "cell_type": "code",
   "execution_count": null,
   "metadata": {},
   "outputs": [],
   "source": [
    "print(list_2)"
   ]
  },
  {
   "cell_type": "code",
   "execution_count": null,
   "metadata": {},
   "outputs": [],
   "source": [
    "# For cyklus, abychom mohli přistoupit k jednotlivým prvkům v poli\n",
    "for i in list_2:\n",
    "    # Pro jednotlivé prvky v poli kontrolujeme jejich obsah pomocí IF statementu\n",
    "    if i == 'novy':\n",
    "        list_2.remove(i)\n",
    "        print('Nasel jsem slovo novy, mazu jej.')\n",
    "    else:\n",
    "        print('Slovo novy jsem nenasel, jdu na dalsi iteraci')"
   ]
  },
  {
   "cell_type": "code",
   "execution_count": null,
   "metadata": {},
   "outputs": [],
   "source": [
    "# Prva přetypuju list na set, čímž se zbavím duplicit a pak jej opět převedu na list\n",
    "list(set(list_2))"
   ]
  },
  {
   "cell_type": "code",
   "execution_count": null,
   "metadata": {},
   "outputs": [],
   "source": [
    "list_2 = set(list_2)"
   ]
  },
  {
   "cell_type": "code",
   "execution_count": null,
   "metadata": {},
   "outputs": [],
   "source": [
    "print(list_2)"
   ]
  },
  {
   "cell_type": "markdown",
   "metadata": {},
   "source": [
    "### Úkol č. 1"
   ]
  },
  {
   "cell_type": "markdown",
   "metadata": {},
   "source": [
    "#### Vytvoř proměnnou datového typu list s názvem muj_list, který má hodnoty [1, 3, \"x\"] a vlož na konec nový prvek s hodnotou 10"
   ]
  },
  {
   "cell_type": "markdown",
   "metadata": {},
   "source": [
    "### Úkol č. 2\n",
    "#### Do proměnné muj_list vložte na nultý index (na první místo v listu) hodnotu 50"
   ]
  },
  {
   "cell_type": "markdown",
   "metadata": {
    "id": "dOHTGrSc90ev"
   },
   "source": [
    "---\n",
    "\n",
    "#### **Tuple**\n",
    "\n",
    "`Tuple` je na první pohled velmi podobný Listu.\n",
    "\n",
    "`Tuple (n-tice)` v Pythonu je neměnný (immutable) datový typ, který uchovává hodnoty v určitém pořadí. Hodnoty v `tuple` mohou být různých datových typů.\n",
    "\n",
    "Prázdný `tuple` lze vytvořit takto: `muj_tuple = ()`\n",
    "\n",
    "Neprázdný `tuple` vytvoříte umístěním hodnot oddělených čárkou do kulatých závorek: `muj_tuple = (1, 2, 3, 4)`\n",
    "\n",
    "`Tuple` mohou obsahovat další složité datové typy, jako jsou slovníky, další ntice nebo listy.\n",
    "\n",
    "Přestože jsou tuple neměnné a nejde měnit jejich obsah po vytvoření, mohou obsahovat měnitelné objekty, jako jsou listy nebo slovníky. To znamená, že i když nemůžete změnit, které objekty tuple obsahuje, můžete změnit obsah těchto objektů."
   ]
  },
  {
   "cell_type": "code",
   "execution_count": null,
   "metadata": {
    "id": "DYPDh6JBtW2n"
   },
   "outputs": [],
   "source": [
    "# Vytvoření tuple s různými datovými typy\n",
    "muj_tuple = (1, 2, 3, \"text\", [14, 15, 16], {\"dominik\":\"šmída\"}, 15)\n",
    "type(muj_tuple)"
   ]
  },
  {
   "cell_type": "code",
   "execution_count": null,
   "metadata": {},
   "outputs": [],
   "source": [
    "muj_list = [1, 2, 3, \"text\", [14, 15, 16], {\"dominik\":\"šmída\"}, 15]\n",
    "\n",
    "# Přidání hodnoty na konec listu\n",
    "muj_list.append(5)"
   ]
  },
  {
   "cell_type": "code",
   "execution_count": null,
   "metadata": {
    "id": "gGVkXJBS-U6_"
   },
   "outputs": [],
   "source": [
    "# Vytvoření tuple obsahující list a slovník\n",
    "muj_tuple = ([1, 2, 3], {'klic': 'hodnota'})\n",
    "\n",
    "# Přístup k prvkům v tuple\n",
    "print(\"Původní tuple:\", muj_tuple)\n",
    "\n",
    "# Změna obsahu listu uvnitř tuple\n",
    "muj_tuple[0][1] = 'změněno'\n",
    "print(\"Tuple po změně listu:\", muj_tuple)\n",
    "\n",
    "# Změna obsahu slovníku uvnitř tuple\n",
    "muj_tuple[1]['klic'] = 'nová hodnota'\n",
    "print(\"Tuple po změně slovníku:\", muj_tuple)\n"
   ]
  },
  {
   "cell_type": "markdown",
   "metadata": {
    "id": "K_AsYsHk4ihR"
   },
   "source": [
    "---\n",
    "\n",
    "#### **Rozdíl mezi `tuple` a `list`**\n",
    "\n",
    "- `list` je mutable datový typ, takže se elementy v něm můžou přidat (od toho je odvozen i velký počet metod pro tyto operace)\n",
    "- `tuple` je immutable datový typ. Protože je tuple neměnný, neobsahuje metody pro změnu svého obsahu, jako jsou `append()`, `remove()` nebo `pop()`, které naleznete u měnitelných datových typů jako je `list`."
   ]
  },
  {
   "cell_type": "markdown",
   "metadata": {
    "id": "3QZQNQjn2ngb"
   },
   "source": [
    "---\n",
    "\n",
    "#### **Konvence názvů proměnných**\n",
    "1. *camelCase* - `mojePromenna` - každé nové slovo začíná velkým písmenem. Pozor na to, že první písmeno je vždy **malé**!\n",
    "2. *snake_case* - `moje_promenna` - každé nové slovo je odděleno podtržítkem `_`\n",
    "\n",
    "**Proměnná nesmí začínat písmenem, obsahovat mezery či speciální znaky kromě podtržítka!**\n",
    "\n",
    "Je vhodné držet konvenčnost pojmenování stejnou napříč celým programem."
   ]
  },
  {
   "cell_type": "markdown",
   "metadata": {
    "id": "k2wLHOYm3t5l"
   },
   "source": [
    "Příklad `camelCase`"
   ]
  },
  {
   "cell_type": "code",
   "execution_count": null,
   "metadata": {
    "id": "RBaTZogE3omk"
   },
   "outputs": [],
   "source": [
    "customerName = \"Dominik\""
   ]
  },
  {
   "cell_type": "markdown",
   "metadata": {
    "id": "3Gr1PjFc3yrR"
   },
   "source": [
    "Příklad `snake_case`"
   ]
  },
  {
   "cell_type": "code",
   "execution_count": null,
   "metadata": {
    "id": "7DyxK3zO33mJ"
   },
   "outputs": [],
   "source": [
    "customer_name = \"Dominik\""
   ]
  },
  {
   "cell_type": "markdown",
   "metadata": {
    "id": "Q6kY_J8G3HNq"
   },
   "source": [
    "---\n",
    "\n",
    "#### Názvy proměnných\n",
    "\n",
    "Proměnné by vždy měly dávat smysl již dle názvu.\n",
    "Zároveň by název proměnné **neměla** obsahovat pouze jeden znak."
   ]
  },
  {
   "cell_type": "code",
   "execution_count": null,
   "metadata": {
    "id": "W3zY0B1e3c-S"
   },
   "outputs": [],
   "source": [
    "koren_x1 = 25\n",
    "koren_x2 = 30"
   ]
  },
  {
   "cell_type": "markdown",
   "metadata": {
    "id": "Z7c3AOMbvx9a"
   },
   "source": [
    "---\n",
    "\n",
    "#### **Tisknutí výsledků**\n",
    "Používáme příkaz `print()`, do kterého vložíme text či proměnnou, kterou chceme vypsat.\n"
   ]
  },
  {
   "cell_type": "code",
   "execution_count": null,
   "metadata": {
    "id": "S2P64T4xvxpE"
   },
   "outputs": [],
   "source": [
    "print(\"Vypisuji text\")"
   ]
  },
  {
   "cell_type": "markdown",
   "metadata": {
    "id": "Zcmdwh_0wENF"
   },
   "source": [
    "Můžu vypsat také **proměnnou** a to pomocí 2 způsobů:\n",
    "1. format\n",
    "2. f-string"
   ]
  },
  {
   "cell_type": "code",
   "execution_count": null,
   "metadata": {
    "id": "n93lYJkWwJTm"
   },
   "outputs": [],
   "source": [
    "promenna = 5\n",
    "print(\"Mé číslo je: {}\".format(promenna))"
   ]
  },
  {
   "cell_type": "markdown",
   "metadata": {
    "id": "Hje97G8vwbp6"
   },
   "source": [
    "Použití f-stringů, které se v Pythonu objevily od verze 3.6 jsou přehlednější a jednodušší k použití"
   ]
  },
  {
   "cell_type": "code",
   "execution_count": null,
   "metadata": {
    "id": "WUhayOjdwm4t"
   },
   "outputs": [],
   "source": [
    "print(f\"Mé číslo je: {promenna}\")"
   ]
  },
  {
   "cell_type": "code",
   "execution_count": 1,
   "metadata": {},
   "outputs": [
    {
     "name": "stdout",
     "output_type": "stream",
     "text": [
      "Proměnná a má přiřazenou hodnotu 500\n",
      "druhý řádek\n",
      "třetí řádek\n",
      "\n"
     ]
    }
   ],
   "source": [
    "a = 500\n",
    "\n",
    "print(f\"\"\"Proměnná a má přiřazenou hodnotu {a}\n",
    "druhý řádek\n",
    "třetí řádek\n",
    "\"\"\")"
   ]
  },
  {
   "cell_type": "markdown",
   "metadata": {
    "id": "yqB36x6FPWuu"
   },
   "source": [
    "---\n",
    "\n",
    "#### **Možnosti zápisu stringů**\n",
    "Pro zápis stringů máme 3 možnosti:\n",
    "1. dvojité uvozovky - `\"Text\"`\n",
    "2. Jednoduché uvozovky - `'Text'`\n",
    "3. Trojité uvozovky - `\"\"\"Text\"\"\"'` či `'''Text'''`\n",
    "\n",
    "Trojité uvozovky slouží k víceřádkovému zápisu\n"
   ]
  },
  {
   "cell_type": "code",
   "execution_count": null,
   "metadata": {},
   "outputs": [],
   "source": [
    "print(\"That's a dog\")"
   ]
  },
  {
   "cell_type": "code",
   "execution_count": null,
   "metadata": {
    "id": "YsH1OhS3QBxv"
   },
   "outputs": [],
   "source": [
    "print(\n",
    "    \"\"\"\n",
    "    Toto je víceřádkový string - řádek 1\n",
    "    řádek 2\n",
    "    \"\"\"\n",
    "    )"
   ]
  },
  {
   "cell_type": "markdown",
   "metadata": {
    "id": "uZ8vKqtpoe9N"
   },
   "source": [
    "---\n",
    "\n",
    "#### **Speciální znaky**\n",
    "1.   `\\'`\t**apostrof**\n",
    "2.   `\\\\`\tzpětné lomítko\n",
    "3.   `\\n`\t**nový řádek**\n",
    "4.   `\\r`\tnávrat vozíku\n",
    "5.   `\\t`\t**tabulátor**\n",
    "6.   `\\b`\tnávrat o jeden znak\n",
    "7.   `\\f`\todstránkování"
   ]
  },
  {
   "cell_type": "code",
   "execution_count": null,
   "metadata": {},
   "outputs": [],
   "source": [
    "print(\"That\\'s a dog\\nThat's a cat\\tThat's a lion\")"
   ]
  },
  {
   "cell_type": "code",
   "execution_count": null,
   "metadata": {
    "colab": {
     "base_uri": "https://localhost:8080/"
    },
    "id": "qHBEh6SnoaEF",
    "outputId": "db32329e-3769-449a-f360-9000316cdb26"
   },
   "outputs": [],
   "source": [
    "print(\"That's him!\")"
   ]
  },
  {
   "cell_type": "code",
   "execution_count": null,
   "metadata": {
    "id": "u5HSj552s67j"
   },
   "outputs": [],
   "source": [
    "print('That\\'s him!')"
   ]
  },
  {
   "cell_type": "code",
   "execution_count": null,
   "metadata": {
    "colab": {
     "base_uri": "https://localhost:8080/"
    },
    "id": "VNoHGQSFpQn6",
    "outputId": "289d57d4-151e-426d-a220-f775414fd2cc"
   },
   "outputs": [],
   "source": [
    "print('That\\'s him!')"
   ]
  },
  {
   "cell_type": "markdown",
   "metadata": {
    "id": "fy-qKrFkpcNf"
   },
   "source": [
    "#### **Spojování stringů**\n",
    "\n",
    "---\n",
    "\n",
    "Operátor + u číselných typů provede součet. Můžeme je použít i u stringů. Zde neplní účel sčítání, ale za účel spojování stringů:\n"
   ]
  },
  {
   "cell_type": "code",
   "execution_count": null,
   "metadata": {
    "id": "dn9ULbVepusJ"
   },
   "outputs": [],
   "source": [
    "slovo_1 = \"10,11,12\"\n",
    "slovo_2 = \",13,14,15\""
   ]
  },
  {
   "cell_type": "code",
   "execution_count": null,
   "metadata": {
    "colab": {
     "base_uri": "https://localhost:8080/",
     "height": 35
    },
    "id": "IHElEfe9pzP0",
    "outputId": "e44bcdcd-141f-4748-d347-1087e401562c"
   },
   "outputs": [],
   "source": [
    "spojeni = slovo_1 + slovo_2\n",
    "spojeni"
   ]
  },
  {
   "cell_type": "markdown",
   "metadata": {
    "id": "_1-5o0WzTDMY"
   },
   "source": [
    "---\n",
    "\n",
    "#### **Práce se stringy a proměnnými**\n",
    "Stringy (i proměnné jiných datových typů) se dají spojovat pomocí operandu `+`.\n",
    "\n",
    "Další metodou je deklarování těchto proměnných přímo v rámci syntaxe pro výpis, využívajíc přitom formátovací řetězce, známé jako f-stringy\n"
   ]
  },
  {
   "cell_type": "code",
   "execution_count": null,
   "metadata": {
    "id": "6-d_mjkfTIze"
   },
   "outputs": [],
   "source": [
    "string_1 = \"Toto \"\n",
    "string_2 = \"je \"\n",
    "string_3 = \"modul \"\n",
    "string_4 = \"Pythonu.\"\n",
    "\n",
    "cely_text = string_1+string_2+string_3+string_4\n",
    "cely_text"
   ]
  },
  {
   "cell_type": "markdown",
   "metadata": {
    "id": "xh7l3ffIT-PK"
   },
   "source": [
    "Použití f-stringu"
   ]
  },
  {
   "cell_type": "code",
   "execution_count": null,
   "metadata": {
    "id": "QSpMcpKUTX0i"
   },
   "outputs": [],
   "source": [
    "print(f\"{string_1}{string_2}{string_3}{string_4}\")"
   ]
  },
  {
   "cell_type": "markdown",
   "metadata": {
    "id": "iVAyf10BRIFc"
   },
   "source": [
    "---\n",
    "#### **Úkol**\n",
    "Vytvořte celkem 2 proměnné. Do první proměnné `name` uložte vaše jméno, do druhé proměnné `surname` uložte vaše příjmení.\n",
    "Tyto dvě proměnné vytiskněte tak, aby se na jednom řádku vytisklo vaše jméno a příjmení i s mezerou mezi slovy (např. `Dominik Šmída`)"
   ]
  },
  {
   "cell_type": "markdown",
   "metadata": {},
   "source": [
    "### 1. způsob"
   ]
  },
  {
   "cell_type": "code",
   "execution_count": null,
   "metadata": {},
   "outputs": [],
   "source": [
    "name = \"Dominik\"\n",
    "surname = \"Šmída\"\n",
    "spojeni_jmena_a_prijmeni = name + \" \" + surname\n",
    "print(spojeni_jmena_a_prijmeni)"
   ]
  },
  {
   "cell_type": "markdown",
   "metadata": {},
   "source": [
    "2. způsob"
   ]
  },
  {
   "cell_type": "code",
   "execution_count": null,
   "metadata": {},
   "outputs": [],
   "source": [
    "name = \"Dominik\"\n",
    "surname = \"Šmída\"\n",
    "cele_jmeno = name + \" \" + surname\n",
    "print(f'Uživatel se jmenuje: {cele_jmeno}')"
   ]
  },
  {
   "cell_type": "markdown",
   "metadata": {
    "id": "mwQLWlB2p9va"
   },
   "source": [
    "#### **Opakování**\n",
    "\n",
    "\n",
    "---\n",
    "\n",
    "Pomocí operátoru * můžeme násobit znaky (chars).\n"
   ]
  },
  {
   "cell_type": "code",
   "execution_count": null,
   "metadata": {
    "id": "7CjQqxblqDa8"
   },
   "outputs": [],
   "source": [
    "znak = '*'\n",
    "pronasobeni = 10 * znak\n",
    "print(pronasobeni)"
   ]
  },
  {
   "cell_type": "markdown",
   "metadata": {
    "id": "hX8xyV8sqY_J"
   },
   "source": [
    "#### **Indexování**\n",
    "\n",
    "---\n",
    "\n",
    "String je složený ze znaků, které mají své pořadí. Toto pořadí je určené  tzv. indexem, což je celé číslo. Pomocí tohoto indexu můžeme přistupovat na konkrétní znak stringu.\n",
    "Důležité: **Indexace začíná od nuly! Tzn. první znak v textu má vždy index 0!**"
   ]
  },
  {
   "cell_type": "code",
   "execution_count": null,
   "metadata": {
    "colab": {
     "base_uri": "https://localhost:8080/"
    },
    "id": "R95YXjiJqLgx",
    "outputId": "7d85dc3c-c287-4a72-ee8b-c41fc11ec3f4"
   },
   "outputs": [],
   "source": [
    "slovo = \"Neandrtálec\"\n",
    "prvni_pismeno = slovo[0]\n",
    "print(f\"Celé slovo: {slovo}\")\n",
    "print(f\"Poslední znak: {prvni_pismeno}\")"
   ]
  },
  {
   "cell_type": "markdown",
   "metadata": {
    "id": "3zaOlxphq6lL"
   },
   "source": [
    "Můžeme indexovat také odzadu"
   ]
  },
  {
   "cell_type": "code",
   "execution_count": null,
   "metadata": {
    "colab": {
     "base_uri": "https://localhost:8080/"
    },
    "id": "XBHvODw5qqHy",
    "outputId": "2cbd810c-f372-4705-ddcd-f7c3f41228a2"
   },
   "outputs": [],
   "source": [
    "posledni_pismeno = slovo[-1]\n",
    "print(f\"Celé slovo: {slovo}\")\n",
    "print(f\"Poslední znak: {posledni_pismeno}\")"
   ]
  }
 ],
 "metadata": {
  "colab": {
   "provenance": []
  },
  "kernelspec": {
   "display_name": "Python 3",
   "language": "python",
   "name": "python3"
  },
  "language_info": {
   "codemirror_mode": {
    "name": "ipython",
    "version": 3
   },
   "file_extension": ".py",
   "mimetype": "text/x-python",
   "name": "python",
   "nbconvert_exporter": "python",
   "pygments_lexer": "ipython3",
   "version": "3.12.5"
  }
 },
 "nbformat": 4,
 "nbformat_minor": 1
}
